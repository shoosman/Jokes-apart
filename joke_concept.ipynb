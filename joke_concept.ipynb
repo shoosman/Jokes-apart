{
 "cells": [
  {
   "cell_type": "code",
   "execution_count": 1,
   "id": "8cb95892",
   "metadata": {},
   "outputs": [],
   "source": [
    "from imports import *"
   ]
  },
  {
   "cell_type": "code",
   "execution_count": null,
   "id": "f185a0e9",
   "metadata": {},
   "outputs": [],
   "source": []
  },
  {
   "cell_type": "code",
   "execution_count": null,
   "id": "d22d809d",
   "metadata": {},
   "outputs": [
    {
     "name": "stdout",
     "output_type": "stream",
     "text": [
      "Сохранено 150554 шуток в файл output_files/jokes_sentences.csv\n"
     ]
    }
   ],
   "source": [
    "input_path  = 'input_files/dataset.csv'             # исходный файл: одна шутка на строку\n",
    "output_path = 'output_files/jokes.csv'   # результирующий CSV\n",
    "\n",
    "with open(input_path,  encoding='utf-8') as fin, \\\n",
    "     open(output_path, 'w', encoding='utf-8', newline='') as fout:\n",
    "\n",
    "    writer = csv.writer(fout)\n",
    "    writer.writerow(['joke_id', 'sentence'])\n",
    "\n",
    "    for idx, line in enumerate(fin, start=1):\n",
    "        text = line.strip()\n",
    "        if not text:\n",
    "            continue  # пропускаем пустые строки\n",
    "        joke_id = f'joke_{idx}'\n",
    "        writer.writerow([joke_id, text])\n",
    "\n",
    "print(f'Сохранено {idx} шуток в файл {output_path}')\n"
   ]
  },
  {
   "cell_type": "markdown",
   "id": "7f036f8e",
   "metadata": {},
   "source": [
    "Извлечение последовательностей и отношений шуточных текстов"
   ]
  },
  {
   "cell_type": "code",
   "execution_count": null,
   "id": "3a89438a",
   "metadata": {},
   "outputs": [
    {
     "name": "stdout",
     "output_type": "stream",
     "text": [
      "Извлечено 325459 отношений, сохранено в output_files/jokes_relations_raw.csv\n",
      "После фильтрации и лемматизации осталось 319882 отношений, сохранено в output_files/jokes_relations_clean.csv\n"
     ]
    }
   ],
   "source": [
    "# Пути\n",
    "INPUT_CSV    = 'input_files/jokes.csv'\n",
    "OUTPUT_CLEAN = 'output_files/jokes_relations_clean.csv'\n",
    "\n",
    "# Читаем исходный CSV\n",
    "df = pd.read_csv(INPUT_CSV, encoding='utf-8', usecols=['joke_id', 'sentence'])\n",
    "\n",
    "# Извлекаем и фильтруем отношения\n",
    "clean_df = extract_relations(\n",
    "    df=df,\n",
    "    id_col='joke_id',\n",
    "    output_clean=OUTPUT_CLEAN,\n",
    ")"
   ]
  },
  {
   "cell_type": "code",
   "execution_count": null,
   "id": "b443b49d",
   "metadata": {},
   "outputs": [
    {
     "name": "stdout",
     "output_type": "stream",
     "text": [
      "Будем обрабатывать начиная с joke_491596\n",
      "Максимальный номер в данных = 491595, новых групп нет → выходим.\n"
     ]
    }
   ],
   "source": [
    "INPUT_CSV = 'output_files/jokes_relations_clean.csv'\n",
    "OUTPUT_DIR = 'collected_graphs/joke_graphs'\n",
    "\n",
    "df = pd.read_csv(INPUT_CSV, encoding='utf-8')\n",
    "\n",
    "build_and_save_graphs(\n",
    "    df=df,\n",
    "    id_col='joke_id',    # или 'segment_id'\n",
    "    output_dir=OUTPUT_DIR,\n",
    "    file_prefix =  'joke',\n",
    "    save_png=False          # True, если нужно ещё и картинки\n",
    ")\n"
   ]
  },
  {
   "cell_type": "code",
   "execution_count": null,
   "id": "4273b7c5",
   "metadata": {},
   "outputs": [],
   "source": []
  },
  {
   "cell_type": "code",
   "execution_count": null,
   "id": "a779e94b",
   "metadata": {},
   "outputs": [],
   "source": []
  }
 ],
 "metadata": {
  "kernelspec": {
   "display_name": "venv_diploma",
   "language": "python",
   "name": "python3"
  },
  "language_info": {
   "codemirror_mode": {
    "name": "ipython",
    "version": 3
   },
   "file_extension": ".py",
   "mimetype": "text/x-python",
   "name": "python",
   "nbconvert_exporter": "python",
   "pygments_lexer": "ipython3",
   "version": "3.12.8"
  }
 },
 "nbformat": 4,
 "nbformat_minor": 5
}
